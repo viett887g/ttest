{
  "nbformat": 4,
  "nbformat_minor": 0,
  "metadata": {
    "colab": {
      "name": "ttest",
      "provenance": [],
      "authorship_tag": "ABX9TyNeWj5NYEjhMxpzXK+W14ap",
      "include_colab_link": true
    },
    "kernelspec": {
      "name": "python3",
      "display_name": "Python 3"
    },
    "language_info": {
      "name": "python"
    }
  },
  "cells": [
    {
      "cell_type": "markdown",
      "metadata": {
        "id": "view-in-github",
        "colab_type": "text"
      },
      "source": [
        "<a href=\"https://colab.research.google.com/github/viett887g/ttest/blob/main/ttest.ipynb\" target=\"_parent\"><img src=\"https://colab.research.google.com/assets/colab-badge.svg\" alt=\"Open In Colab\"/></a>"
      ]
    },
    {
      "cell_type": "markdown",
      "source": [
        "T test 1 mẫu (One sample t-test)"
      ],
      "metadata": {
        "id": "jbcVc4DbGdY1"
      }
    },
    {
      "cell_type": "code",
      "source": [
        "import scipy.stats as stats"
      ],
      "metadata": {
        "id": "HG-M3GIbG4MW"
      },
      "execution_count": 1,
      "outputs": []
    },
    {
      "cell_type": "code",
      "source": [
        "#Bước 1: Tạo dữ liệu\n",
        "\n",
        "data = [14, 14, 16, 13, 12, 17, 15, 14, 15, 13, 15, 14]\n",
        "#Bước 2: Tiến hành kiểm tra t một mẫu\n",
        "stats.ttest_1samp(a=data, popmean=15)\n",
        "\n"
      ],
      "metadata": {
        "colab": {
          "base_uri": "https://localhost:8080/"
        },
        "id": "BTbaGLpLGfXN",
        "outputId": "32cad896-56f3-4343-a73d-56376e299d1a"
      },
      "execution_count": 2,
      "outputs": [
        {
          "output_type": "execute_result",
          "data": {
            "text/plain": [
              "Ttest_1sampResult(statistic=-1.6848470783484626, pvalue=0.12014460742498101)"
            ]
          },
          "metadata": {},
          "execution_count": 2
        }
      ]
    },
    {
      "cell_type": "code",
      "source": [
        "#Bước 3: Diễn giải kết quả\n",
        "if data[1]>= 0.5:\n",
        "  print(\"chiều cao trung bình của loài thực vật này là 15 inch\")\n",
        "else:\n",
        "  print(\"chiều cao trung bình không phải là 15 inch\")"
      ],
      "metadata": {
        "colab": {
          "base_uri": "https://localhost:8080/"
        },
        "id": "CoKs5P6RHGDV",
        "outputId": "b35a0a98-63b5-47a5-fdb8-504c90046f21"
      },
      "execution_count": 14,
      "outputs": [
        {
          "output_type": "stream",
          "name": "stdout",
          "text": [
            "chiều cao trung bình của loài thực vật này là 15 inch\n"
          ]
        }
      ]
    },
    {
      "cell_type": "markdown",
      "source": [
        "Kiểm định t - hai mẫu (Two sapmle t test)"
      ],
      "metadata": {
        "id": "nPSPiauHH95-"
      }
    },
    {
      "cell_type": "markdown",
      "source": [
        "vd: Các nhà nghiên cứu muốn biết liệu hai loài thực vật khác nhau có cùng chiều cao trung bình hay không. Để kiểm tra điều này, họ thu thập một mẫu ngẫu nhiên đơn giản gồm 20 cây từ mỗi loài"
      ],
      "metadata": {
        "id": "MzCZ6XWeIH91"
      }
    },
    {
      "cell_type": "code",
      "source": [
        "#b1 tao du lieu \n",
        "import numpy as np\n",
        "\n",
        "group1 = np.array([14, 15, 15, 16, 13, 8, 14, 17, 16, 14, 19, 20,21, 15, 15, 16, 16, 13, 14, 12])\n",
        "group2 = np.array([15, 17, 14, 17, 14, 8, 12, 19, 19, 14, 17, 22,24, 16, 13, 16, 13, 18, 15, 13])\n",
        "#Bước 2: Tiến hành kiểm tra t-test hai mẫu\n",
        "\n",
        "stats.ttest_ind(group1 , group2, equal_var = True)"
      ],
      "metadata": {
        "colab": {
          "base_uri": "https://localhost:8080/"
        },
        "id": "BWrxYFp8IJvF",
        "outputId": "22d33864-42ad-4236-f514-c85cc68bec63"
      },
      "execution_count": 11,
      "outputs": [
        {
          "output_type": "execute_result",
          "data": {
            "text/plain": [
              "Ttest_indResult(statistic=-0.6337397070250238, pvalue=0.5300471010405257)"
            ]
          },
          "metadata": {},
          "execution_count": 11
        }
      ]
    },
    {
      "cell_type": "code",
      "source": [
        "#Bước 3: Diễn giải kết quả\n",
        "if data[1]>= 0.5:\n",
        "  print('cùng chiều cao trung bình')\n",
        "else:\n",
        "  print(\" khong cùng chiều cao trung binh\")"
      ],
      "metadata": {
        "colab": {
          "base_uri": "https://localhost:8080/"
        },
        "id": "aL3Tyk5UJOZe",
        "outputId": "2970f0f7-4b7e-479a-e8d2-9e368ba67403"
      },
      "execution_count": 16,
      "outputs": [
        {
          "output_type": "stream",
          "name": "stdout",
          "text": [
            "cùng chiều cao trung bình\n"
          ]
        }
      ]
    }
  ]
}